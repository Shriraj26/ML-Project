{
 "cells": [
  {
   "cell_type": "code",
   "execution_count": null,
   "id": "e2d2c0c5",
   "metadata": {},
   "outputs": [],
   "source": [
    "# File Paths\n",
    "FILE_PATH = 'hypothyroid.csv'"
   ]
  },
  {
   "cell_type": "code",
   "execution_count": null,
   "id": "3c6815a3",
   "metadata": {},
   "outputs": [],
   "source": [
    "# All the imports\n",
    "import pandas as pd\n",
    "import warnings\n",
    "import matplotlib.pyplot as plt\n",
    "import seaborn as sns\n",
    "import numpy as np \n",
    "from sklearn.model_selection import train_test_split\n",
    "import statsmodels.api as sm\n",
    "\n",
    "# Classification Algorithms to Use - \n",
    "# 1. Logistic Regression\n",
    "# 2. KNN\n",
    "# 3. Kernel SVM\n",
    "# 5. Random Forest \n",
    "# 6. XGBoost\n",
    "from sklearn.linear_model import LogisticRegression\n",
    "from sklearn.neighbors import KNeighborsClassifier\n",
    "from sklearn.svm import SVC\n",
    "from sklearn.ensemble import RandomForestClassifier\n",
    "from  xgboost import XGBClassifier\n",
    "\n",
    "from sklearn.model_selection import cross_val_score\n",
    "from matplotlib.colors import ListedColormap\n",
    "from sklearn.metrics import precision_score, recall_score, plot_confusion_matrix, classification_report, accuracy_score, f1_score\n",
    "from sklearn import metrics\n",
    "from sklearn.impute import SimpleImputer\n",
    "from sklearn.preprocessing import StandardScaler\n",
    "\n",
    "\n"
   ]
  },
  {
   "cell_type": "code",
   "execution_count": null,
   "id": "c915a90b",
   "metadata": {},
   "outputs": [],
   "source": []
  },
  {
   "cell_type": "code",
   "execution_count": null,
   "id": "0d2502c5",
   "metadata": {},
   "outputs": [],
   "source": [
    "# Reading the Data\n",
    "thyroid_dataset = pd.read_csv(FILE_PATH)"
   ]
  },
  {
   "cell_type": "code",
   "execution_count": null,
   "id": "0f8fb204",
   "metadata": {},
   "outputs": [],
   "source": [
    "thyroid_dataset"
   ]
  },
  {
   "cell_type": "code",
   "execution_count": null,
   "id": "98d4aaa0",
   "metadata": {},
   "outputs": [],
   "source": [
    "thyroid_dataset.rename(columns={'binaryClass':'Labels'},inplace=True)"
   ]
  },
  {
   "cell_type": "code",
   "execution_count": null,
   "id": "80dcf0a8",
   "metadata": {},
   "outputs": [],
   "source": [
    "\n",
    "thyroid_dataset.describe().T\n"
   ]
  },
  {
   "cell_type": "code",
   "execution_count": null,
   "id": "38d0b780",
   "metadata": {},
   "outputs": [],
   "source": [
    "thyroid_dataset.info()"
   ]
  },
  {
   "cell_type": "code",
   "execution_count": null,
   "id": "c624c9bd",
   "metadata": {},
   "outputs": [],
   "source": [
    "thyroid_dataset[\"Labels\"] = thyroid_dataset[\"Labels\"].map({\"P\":0,\"N\":1})\n",
    "thyroid_dataset = thyroid_dataset.replace({\"t\":1,\"f\":0})"
   ]
  },
  {
   "cell_type": "code",
   "execution_count": null,
   "id": "182ce568",
   "metadata": {},
   "outputs": [],
   "source": [
    "thyroid_dataset['sex'].isnull().sum()"
   ]
  },
  {
   "cell_type": "code",
   "execution_count": null,
   "id": "8eefb9dd",
   "metadata": {},
   "outputs": [],
   "source": [
    "thyroid_dataset[\"TBG\"].value_counts()\n"
   ]
  },
  {
   "cell_type": "code",
   "execution_count": null,
   "id": "776d519d",
   "metadata": {},
   "outputs": [],
   "source": [
    "del thyroid_dataset[\"TBG\"]"
   ]
  },
  {
   "cell_type": "code",
   "execution_count": null,
   "id": "34bc72d4",
   "metadata": {},
   "outputs": [],
   "source": [
    "thyroid_dataset = thyroid_dataset.replace({\"?\":np.NAN})\n",
    "thyroid_dataset.isnull().sum()\n"
   ]
  },
  {
   "cell_type": "code",
   "execution_count": null,
   "id": "3d60e2d6",
   "metadata": {},
   "outputs": [],
   "source": [
    "thyroid_dataset[\"sex\"].value_counts()\n"
   ]
  },
  {
   "cell_type": "code",
   "execution_count": null,
   "id": "821bdc51",
   "metadata": {},
   "outputs": [],
   "source": [
    "thyroid_dataset = thyroid_dataset.replace({\"F\":1,\"M\":0})"
   ]
  },
  {
   "cell_type": "code",
   "execution_count": null,
   "id": "cd29a0c1",
   "metadata": {},
   "outputs": [],
   "source": [
    "thyroid_dataset[\"referral source\"].value_counts()\n"
   ]
  },
  {
   "cell_type": "code",
   "execution_count": null,
   "id": "b7abc69a",
   "metadata": {},
   "outputs": [],
   "source": [
    "del thyroid_dataset[\"referral source\"]"
   ]
  },
  {
   "cell_type": "code",
   "execution_count": null,
   "id": "af32ca03",
   "metadata": {},
   "outputs": [],
   "source": [
    "thyroid_dataset[\"T3 measured\"].value_counts()"
   ]
  },
  {
   "cell_type": "code",
   "execution_count": null,
   "id": "cfd05f99",
   "metadata": {},
   "outputs": [],
   "source": [
    "thyroid_dataset[\"TT4 measured\"].value_counts()"
   ]
  },
  {
   "cell_type": "code",
   "execution_count": null,
   "id": "60c8aaf6",
   "metadata": {},
   "outputs": [],
   "source": [
    "thyroid_dataset[\"FTI measured\"].value_counts()"
   ]
  },
  {
   "cell_type": "code",
   "execution_count": null,
   "id": "d9130b87",
   "metadata": {},
   "outputs": [],
   "source": [
    "thyroid_dataset[\"TBG measured\"].value_counts()\n"
   ]
  },
  {
   "cell_type": "code",
   "execution_count": null,
   "id": "b8bf29bf",
   "metadata": {},
   "outputs": [],
   "source": [
    "thyroid_dataset[\"Labels\"].value_counts()"
   ]
  },
  {
   "cell_type": "code",
   "execution_count": null,
   "id": "668e1ec5",
   "metadata": {},
   "outputs": [],
   "source": [
    "thyroid_dataset.dtypes\n"
   ]
  },
  {
   "cell_type": "code",
   "execution_count": null,
   "id": "95af57ae",
   "metadata": {},
   "outputs": [],
   "source": [
    "# Converting the remaining columns to numeric types\n",
    "col_Names = thyroid_dataset.columns[thyroid_dataset.dtypes == 'object']\n",
    "thyroid_dataset[col_Names] = thyroid_dataset[col_Names].apply(pd.to_numeric, errors='coerce')\n",
    "thyroid_dataset.dtypes\n",
    "\n"
   ]
  },
  {
   "cell_type": "code",
   "execution_count": null,
   "id": "8972abc6",
   "metadata": {},
   "outputs": [],
   "source": [
    "thyroid_dataset.isnull().sum()"
   ]
  },
  {
   "cell_type": "code",
   "execution_count": null,
   "id": "d58b25ca",
   "metadata": {},
   "outputs": [],
   "source": [
    "# Columns where null values exist\n",
    "thyroid_dataset.columns[thyroid_dataset.isnull().sum() > 0]"
   ]
  },
  {
   "cell_type": "code",
   "execution_count": null,
   "id": "60655da8",
   "metadata": {},
   "outputs": [],
   "source": [
    "# Replacing the null values with the means\n",
    "imputer = SimpleImputer(strategy='mean')\n",
    "na_cols = thyroid_dataset.columns[thyroid_dataset.isnull().sum() > 0]\n",
    "for col_name in na_cols:\n",
    "    thyroid_dataset[col_name] = imputer.fit_transform(thyroid_dataset[[col_name]])"
   ]
  },
  {
   "cell_type": "code",
   "execution_count": null,
   "id": "2ebb0e84",
   "metadata": {},
   "outputs": [],
   "source": []
  },
  {
   "cell_type": "code",
   "execution_count": null,
   "id": "1c98c396",
   "metadata": {},
   "outputs": [],
   "source": [
    "# thyroid_dataset[(thyroid_dataset['sex'] > 0.0) & (thyroid_dataset['sex'] < 1.0)]"
   ]
  },
  {
   "cell_type": "code",
   "execution_count": null,
   "id": "eebe63b2",
   "metadata": {},
   "outputs": [],
   "source": [
    "thyroid_dataset"
   ]
  },
  {
   "cell_type": "code",
   "execution_count": null,
   "id": "efa6342e",
   "metadata": {},
   "outputs": [],
   "source": [
    "thyroid_dataset.columns"
   ]
  },
  {
   "cell_type": "code",
   "execution_count": null,
   "id": "d6c29451",
   "metadata": {},
   "outputs": [],
   "source": [
    "X = thyroid_dataset.iloc[:, :-1]\n",
    "y = thyroid_dataset['Labels']"
   ]
  },
  {
   "cell_type": "code",
   "execution_count": null,
   "id": "f86fea71",
   "metadata": {},
   "outputs": [],
   "source": [
    "X = sm.add_constant(X)\n",
    "results = sm.OLS(y,X).fit()\n",
    "results.summary()"
   ]
  },
  {
   "cell_type": "code",
   "execution_count": null,
   "id": "b9dcbe0d",
   "metadata": {},
   "outputs": [],
   "source": [
    "X_train, X_test, y_train, y_test = train_test_split(X, y, test_size=0.25, random_state=42)"
   ]
  },
  {
   "cell_type": "code",
   "execution_count": null,
   "id": "938bc962",
   "metadata": {},
   "outputs": [],
   "source": [
    "# Using standard Scaler to scale the values uniformly\n",
    "sc = StandardScaler()\n",
    "sc.fit(X_train)\n",
    "X_train = sc.transform(X_train)\n",
    "X_test = sc.transform(X_test)"
   ]
  },
  {
   "cell_type": "code",
   "execution_count": null,
   "id": "eb4ef724",
   "metadata": {},
   "outputs": [],
   "source": [
    "X_train.shape"
   ]
  },
  {
   "cell_type": "code",
   "execution_count": null,
   "id": "213cf6bc",
   "metadata": {},
   "outputs": [],
   "source": [
    "X_test.shape"
   ]
  },
  {
   "cell_type": "code",
   "execution_count": null,
   "id": "e48dbe87",
   "metadata": {},
   "outputs": [],
   "source": [
    "# 1. Logistic Regression\n",
    "# 2. KNN\n",
    "# 3. Kernel SVM\n",
    "# 4. Naive Bayes\n",
    "# 5. Random Forest \n",
    "# 6. XGBoost?\n",
    "\n",
    "        \n",
    "models_to_train = {\n",
    "    'Logistic Regression': LogisticRegression(max_iter=500),\n",
    "    'KNN': KNeighborsClassifier(),\n",
    "    'SVM': SVC(),\n",
    "    'RandomForest': RandomForestClassifier(),\n",
    "    'XGBoost': XGBClassifier(learning_rate=0.01)\n",
    "}\n",
    "\n",
    "for _, mod in models_to_train.items():\n",
    "    mod.fit(X_train, y_train)\n"
   ]
  },
  {
   "cell_type": "code",
   "execution_count": null,
   "id": "8996a17a",
   "metadata": {},
   "outputs": [],
   "source": [
    "for _, mod in models_to_train.items():\n",
    "     print(f\"Accuracy Score for {_} is : \",mod.score(X_test,y_test)*100,\"%\")"
   ]
  },
  {
   "cell_type": "code",
   "execution_count": null,
   "id": "677058e0",
   "metadata": {},
   "outputs": [],
   "source": [
    "# model = XGBClassifier(learning_rate=0.01).fit(X_train, y_train)\n",
    "# y_pred = model.predict(X_test)\n",
    "# print(f\"Accuracy Score for xgboost is : \",model.score(X_test,y_test)*100,\"%\")"
   ]
  },
  {
   "cell_type": "code",
   "execution_count": null,
   "id": "c38788d2",
   "metadata": {},
   "outputs": [],
   "source": []
  },
  {
   "cell_type": "code",
   "execution_count": null,
   "id": "d75f43cb",
   "metadata": {},
   "outputs": [],
   "source": []
  },
  {
   "cell_type": "code",
   "execution_count": null,
   "id": "d06c8212",
   "metadata": {},
   "outputs": [],
   "source": []
  },
  {
   "cell_type": "code",
   "execution_count": null,
   "id": "4a8a47b3",
   "metadata": {},
   "outputs": [],
   "source": []
  },
  {
   "cell_type": "code",
   "execution_count": null,
   "id": "2160dffb",
   "metadata": {},
   "outputs": [],
   "source": []
  }
 ],
 "metadata": {
  "kernelspec": {
   "display_name": "Python 3 (ipykernel)",
   "language": "python",
   "name": "python3"
  },
  "language_info": {
   "codemirror_mode": {
    "name": "ipython",
    "version": 3
   },
   "file_extension": ".py",
   "mimetype": "text/x-python",
   "name": "python",
   "nbconvert_exporter": "python",
   "pygments_lexer": "ipython3",
   "version": "3.9.12"
  }
 },
 "nbformat": 4,
 "nbformat_minor": 5
}
